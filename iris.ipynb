{
  "nbformat": 4,
  "nbformat_minor": 0,
  "metadata": {
    "colab": {
      "provenance": []
    },
    "kernelspec": {
      "name": "python3",
      "display_name": "Python 3"
    },
    "language_info": {
      "name": "python"
    }
  },
  "cells": [
    {
      "cell_type": "markdown",
      "source": [
        "# Iris Dataset (builtin dataset)\n",
        "•The dataset contains a set of 150 records under five attributes sepal\n",
        "length, sepal width, petal length, petal width and species.\n",
        "\n",
        "•This data sets consists of 3 different types of irises’ ( Setosa , Versicolour , and Virginica) petal and sepal length, stored in a 150x4 numpy.ndarray.\n",
        "\n",
        "•The rows being the samples and the columns being: Sepal Length, Sepal Width,\n",
        "Petal Length and Petal Width."
      ],
      "metadata": {
        "id": "NFm-epyeFzLJ"
      }
    },
    {
      "cell_type": "code",
      "execution_count": 1,
      "metadata": {
        "id": "X8lXcaCtFtI6"
      },
      "outputs": [],
      "source": [
        "import sklearn as sk"
      ]
    },
    {
      "cell_type": "code",
      "source": [
        "from sklearn.datasets  import load_iris\n",
        "iris = load_iris()"
      ],
      "metadata": {
        "id": "AVQFocPXGbHr"
      },
      "execution_count": 3,
      "outputs": []
    }
  ]
}