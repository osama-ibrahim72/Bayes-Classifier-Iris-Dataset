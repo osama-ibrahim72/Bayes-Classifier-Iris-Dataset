{
  "nbformat": 4,
  "nbformat_minor": 0,
  "metadata": {
    "colab": {
      "provenance": [],
      "collapsed_sections": []
    },
    "kernelspec": {
      "name": "python3",
      "display_name": "Python 3"
    },
    "language_info": {
      "name": "python"
    }
  },
  "cells": [
    {
      "cell_type": "markdown",
      "source": [
        "# Iris Dataset (builtin dataset)\n",
        "•The dataset contains a set of 150 records under five attributes sepal\n",
        "length, sepal width, petal length, petal width and species.\n",
        "\n",
        "•This data sets consists of 3 different types of irises’ ( Setosa , Versicolour , and Virginica) petal and sepal length, stored in a 150x4 numpy.ndarray.\n",
        "\n",
        "•The rows being the samples and the columns being: Sepal Length, Sepal Width,\n",
        "Petal Length and Petal Width."
      ],
      "metadata": {
        "id": "NFm-epyeFzLJ"
      }
    },
    {
      "cell_type": "code",
      "execution_count": null,
      "metadata": {
        "id": "X8lXcaCtFtI6"
      },
      "outputs": [],
      "source": [
        "import sklearn as sk\n",
        "from sklearn.datasets  import load_iris\n",
        "import numpy as np\n",
        "import pandas as pd\n",
        "import matplotlib as plt\n",
        "import random"
      ]
    },
    {
      "cell_type": "code",
      "source": [
        "#function to convert sklearn dataset to dataFrame\n",
        "\n",
        "def sklearn_to_df(sklearn_dataset):\n",
        "    df = pd.DataFrame(sklearn_dataset.data, columns=sklearn_dataset.feature_names)\n",
        "    df['target'] = pd.Series(sklearn_dataset.target)\n",
        "    return df"
      ],
      "metadata": {
        "id": "JzRJ7LZqkU7-"
      },
      "execution_count": null,
      "outputs": []
    },
    {
      "cell_type": "code",
      "source": [
        "#load data from sklearn\n",
        "iris = sklearn_to_df(sk.datasets.load_iris())\n",
        "iris.head()\n",
        "\n",
        "iris.head()"
      ],
      "metadata": {
        "id": "AVQFocPXGbHr",
        "colab": {
          "base_uri": "https://localhost:8080/",
          "height": 206
        },
        "outputId": "01c5f41d-dd3a-4b8f-cbe7-94e2d22fbddf"
      },
      "execution_count": null,
      "outputs": [
        {
          "output_type": "execute_result",
          "data": {
            "text/plain": [
              "   sepal length (cm)  sepal width (cm)  petal length (cm)  petal width (cm)  \\\n",
              "0                5.1               3.5                1.4               0.2   \n",
              "1                4.9               3.0                1.4               0.2   \n",
              "2                4.7               3.2                1.3               0.2   \n",
              "3                4.6               3.1                1.5               0.2   \n",
              "4                5.0               3.6                1.4               0.2   \n",
              "\n",
              "   target  \n",
              "0       0  \n",
              "1       0  \n",
              "2       0  \n",
              "3       0  \n",
              "4       0  "
            ],
            "text/html": [
              "\n",
              "  <div id=\"df-3b2e732f-cb6e-4afd-899c-ea05da828140\">\n",
              "    <div class=\"colab-df-container\">\n",
              "      <div>\n",
              "<style scoped>\n",
              "    .dataframe tbody tr th:only-of-type {\n",
              "        vertical-align: middle;\n",
              "    }\n",
              "\n",
              "    .dataframe tbody tr th {\n",
              "        vertical-align: top;\n",
              "    }\n",
              "\n",
              "    .dataframe thead th {\n",
              "        text-align: right;\n",
              "    }\n",
              "</style>\n",
              "<table border=\"1\" class=\"dataframe\">\n",
              "  <thead>\n",
              "    <tr style=\"text-align: right;\">\n",
              "      <th></th>\n",
              "      <th>sepal length (cm)</th>\n",
              "      <th>sepal width (cm)</th>\n",
              "      <th>petal length (cm)</th>\n",
              "      <th>petal width (cm)</th>\n",
              "      <th>target</th>\n",
              "    </tr>\n",
              "  </thead>\n",
              "  <tbody>\n",
              "    <tr>\n",
              "      <th>0</th>\n",
              "      <td>5.1</td>\n",
              "      <td>3.5</td>\n",
              "      <td>1.4</td>\n",
              "      <td>0.2</td>\n",
              "      <td>0</td>\n",
              "    </tr>\n",
              "    <tr>\n",
              "      <th>1</th>\n",
              "      <td>4.9</td>\n",
              "      <td>3.0</td>\n",
              "      <td>1.4</td>\n",
              "      <td>0.2</td>\n",
              "      <td>0</td>\n",
              "    </tr>\n",
              "    <tr>\n",
              "      <th>2</th>\n",
              "      <td>4.7</td>\n",
              "      <td>3.2</td>\n",
              "      <td>1.3</td>\n",
              "      <td>0.2</td>\n",
              "      <td>0</td>\n",
              "    </tr>\n",
              "    <tr>\n",
              "      <th>3</th>\n",
              "      <td>4.6</td>\n",
              "      <td>3.1</td>\n",
              "      <td>1.5</td>\n",
              "      <td>0.2</td>\n",
              "      <td>0</td>\n",
              "    </tr>\n",
              "    <tr>\n",
              "      <th>4</th>\n",
              "      <td>5.0</td>\n",
              "      <td>3.6</td>\n",
              "      <td>1.4</td>\n",
              "      <td>0.2</td>\n",
              "      <td>0</td>\n",
              "    </tr>\n",
              "  </tbody>\n",
              "</table>\n",
              "</div>\n",
              "      <button class=\"colab-df-convert\" onclick=\"convertToInteractive('df-3b2e732f-cb6e-4afd-899c-ea05da828140')\"\n",
              "              title=\"Convert this dataframe to an interactive table.\"\n",
              "              style=\"display:none;\">\n",
              "        \n",
              "  <svg xmlns=\"http://www.w3.org/2000/svg\" height=\"24px\"viewBox=\"0 0 24 24\"\n",
              "       width=\"24px\">\n",
              "    <path d=\"M0 0h24v24H0V0z\" fill=\"none\"/>\n",
              "    <path d=\"M18.56 5.44l.94 2.06.94-2.06 2.06-.94-2.06-.94-.94-2.06-.94 2.06-2.06.94zm-11 1L8.5 8.5l.94-2.06 2.06-.94-2.06-.94L8.5 2.5l-.94 2.06-2.06.94zm10 10l.94 2.06.94-2.06 2.06-.94-2.06-.94-.94-2.06-.94 2.06-2.06.94z\"/><path d=\"M17.41 7.96l-1.37-1.37c-.4-.4-.92-.59-1.43-.59-.52 0-1.04.2-1.43.59L10.3 9.45l-7.72 7.72c-.78.78-.78 2.05 0 2.83L4 21.41c.39.39.9.59 1.41.59.51 0 1.02-.2 1.41-.59l7.78-7.78 2.81-2.81c.8-.78.8-2.07 0-2.86zM5.41 20L4 18.59l7.72-7.72 1.47 1.35L5.41 20z\"/>\n",
              "  </svg>\n",
              "      </button>\n",
              "      \n",
              "  <style>\n",
              "    .colab-df-container {\n",
              "      display:flex;\n",
              "      flex-wrap:wrap;\n",
              "      gap: 12px;\n",
              "    }\n",
              "\n",
              "    .colab-df-convert {\n",
              "      background-color: #E8F0FE;\n",
              "      border: none;\n",
              "      border-radius: 50%;\n",
              "      cursor: pointer;\n",
              "      display: none;\n",
              "      fill: #1967D2;\n",
              "      height: 32px;\n",
              "      padding: 0 0 0 0;\n",
              "      width: 32px;\n",
              "    }\n",
              "\n",
              "    .colab-df-convert:hover {\n",
              "      background-color: #E2EBFA;\n",
              "      box-shadow: 0px 1px 2px rgba(60, 64, 67, 0.3), 0px 1px 3px 1px rgba(60, 64, 67, 0.15);\n",
              "      fill: #174EA6;\n",
              "    }\n",
              "\n",
              "    [theme=dark] .colab-df-convert {\n",
              "      background-color: #3B4455;\n",
              "      fill: #D2E3FC;\n",
              "    }\n",
              "\n",
              "    [theme=dark] .colab-df-convert:hover {\n",
              "      background-color: #434B5C;\n",
              "      box-shadow: 0px 1px 3px 1px rgba(0, 0, 0, 0.15);\n",
              "      filter: drop-shadow(0px 1px 2px rgba(0, 0, 0, 0.3));\n",
              "      fill: #FFFFFF;\n",
              "    }\n",
              "  </style>\n",
              "\n",
              "      <script>\n",
              "        const buttonEl =\n",
              "          document.querySelector('#df-3b2e732f-cb6e-4afd-899c-ea05da828140 button.colab-df-convert');\n",
              "        buttonEl.style.display =\n",
              "          google.colab.kernel.accessAllowed ? 'block' : 'none';\n",
              "\n",
              "        async function convertToInteractive(key) {\n",
              "          const element = document.querySelector('#df-3b2e732f-cb6e-4afd-899c-ea05da828140');\n",
              "          const dataTable =\n",
              "            await google.colab.kernel.invokeFunction('convertToInteractive',\n",
              "                                                     [key], {});\n",
              "          if (!dataTable) return;\n",
              "\n",
              "          const docLinkHtml = 'Like what you see? Visit the ' +\n",
              "            '<a target=\"_blank\" href=https://colab.research.google.com/notebooks/data_table.ipynb>data table notebook</a>'\n",
              "            + ' to learn more about interactive tables.';\n",
              "          element.innerHTML = '';\n",
              "          dataTable['output_type'] = 'display_data';\n",
              "          await google.colab.output.renderOutput(dataTable, element);\n",
              "          const docLink = document.createElement('div');\n",
              "          docLink.innerHTML = docLinkHtml;\n",
              "          element.appendChild(docLink);\n",
              "        }\n",
              "      </script>\n",
              "    </div>\n",
              "  </div>\n",
              "  "
            ]
          },
          "metadata": {},
          "execution_count": 26
        }
      ]
    },
    {
      "cell_type": "code",
      "source": [
        "#split the labels and data\n",
        "X = iris.iloc[:, :-1].values\n",
        "y = iris.iloc[:, -1].values"
      ],
      "metadata": {
        "id": "SDFoW0xs5NYs"
      },
      "execution_count": null,
      "outputs": []
    },
    {
      "cell_type": "code",
      "source": [
        "# function to split train & test & validate\n",
        "\n",
        "def train_validate_test_split (data , labels,testRatio,valRatio):\n",
        "  #convert the data to numpy array\n",
        "  data = np.array(data)\n",
        "  labels = np.array(labels)\n",
        "  #shuffle data\n",
        "  indices = np.arange(data.shape[0])\n",
        "  np.random.shuffle(indices)\n",
        "\n",
        "  data = data[indices]\n",
        "  labels = labels[indices]\n",
        "\n",
        "  #size of data\n",
        "  size =  labels.shape[0]\n",
        "\n",
        "  #split train data\n",
        "  train_size = (1-testRatio-valRatio)*size\n",
        "  train_size = int(train_size)\n",
        "  train_X = data[:train_size]\n",
        "  train_y = labels[:train_size] \n",
        "\n",
        "  #split test data\n",
        "  test_size = int(testRatio*size)\n",
        "  test_X = data[train_size+1 : train_size+test_size+1]\n",
        "  test_y = labels[train_size+1 : train_size+test_size+1]\n",
        "\n",
        "  #split validate data\n",
        "  val_size = int(valRatio*size)\n",
        "  val_X = data[train_size+test_size+1:]\n",
        "  val_y = labels[ train_size+test_size+1:]\n",
        "\n",
        "  return train_X, test_X, val_X, train_y, test_y, val_y\n",
        "\n",
        "\n"
      ],
      "metadata": {
        "id": "0-L3kwan1VO8"
      },
      "execution_count": null,
      "outputs": []
    },
    {
      "cell_type": "code",
      "source": [
        "train_X, test_X, val_X, train_y, test_y, val_y = train_validate_test_split(X,y,0.3,0.3)\n",
        "print(train_X.shape[0])\n",
        "print(\"--------------\")\n",
        "print(train_y.shape[0])\n",
        "print(\"--------------\")\n",
        "print(test_X.shape[0])\n",
        "print(\"--------------\")\n",
        "print(test_y.shape[0])\n",
        "print(\"--------------\")\n",
        "print(val_X.shape[0])\n",
        "print(\"--------------\")\n",
        "print(val_y.shape[0])\n",
        "print(\"--------------\")\n",
        "\n"
      ],
      "metadata": {
        "colab": {
          "base_uri": "https://localhost:8080/"
        },
        "id": "ghELf9cs4eGt",
        "outputId": "2a975add-f724-4c21-c315-a4428d7a9f61"
      },
      "execution_count": null,
      "outputs": [
        {
          "output_type": "stream",
          "name": "stdout",
          "text": [
            "59\n",
            "--------------\n",
            "59\n",
            "--------------\n",
            "45\n",
            "--------------\n",
            "45\n",
            "--------------\n",
            "45\n",
            "--------------\n",
            "45\n",
            "--------------\n"
          ]
        }
      ]
    },
    {
      "cell_type": "code",
      "source": [
        "#function to calculate accuracy of Prediction results\n",
        "def calculate_accuracy (predicted_y ,y):\n",
        "  #convert data to numpy array\n",
        "  y = np.array(y)\n",
        "  predicted_y = np.array(predicted_y)\n",
        "  #size of data\n",
        "  size = y.shape[0]\n",
        "  #count the correct Prediction results\n",
        "  cnt =0\n",
        "  for i in range(0,size,1):\n",
        "    if y[i]==predicted_y[i]:\n",
        "      cnt+=1\n",
        "  #calculate accuracy\n",
        "  return cnt/size"
      ],
      "metadata": {
        "id": "uRNIFaeF8YFD"
      },
      "execution_count": null,
      "outputs": []
    },
    {
      "cell_type": "code",
      "source": [
        "acc = calculate_accuracy(test_y,val_y)\n",
        "print(acc)"
      ],
      "metadata": {
        "colab": {
          "base_uri": "https://localhost:8080/"
        },
        "id": "eMIjxPgD81d1",
        "outputId": "a505ab78-616c-4196-863b-2c5490947918"
      },
      "execution_count": null,
      "outputs": [
        {
          "output_type": "stream",
          "name": "stdout",
          "text": [
            "0.37777777777777777\n"
          ]
        }
      ]
    }
  ]
}